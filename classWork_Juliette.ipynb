{
  "nbformat": 4,
  "nbformat_minor": 0,
  "metadata": {
    "colab": {
      "provenance": []
    },
    "kernelspec": {
      "name": "python3",
      "display_name": "Python 3"
    },
    "language_info": {
      "name": "python"
    }
  },
  "cells": [
    {
      "cell_type": "code",
      "execution_count": 2,
      "metadata": {
        "colab": {
          "base_uri": "https://localhost:8080/"
        },
        "id": "GMTWsCxreSt6",
        "outputId": "7b582385-fcba-494e-f4a0-1794911bb50c"
      },
      "outputs": [
        {
          "output_type": "stream",
          "name": "stdout",
          "text": [
            "['Peter', 'Kagetera', 'John', 'Claude', 'Alex', 'Juliette', 'University', 'Kangabe']\n"
          ]
        }
      ],
      "source": [
        "name_list = [\"Kagetera\", \"John\", \"Peter\", \"Alex\", \"Claude\"]\n",
        "\n",
        "name_list.sort(reverse=True)\n",
        "\n",
        "name_list.append(\"Juliette\")\n",
        "name_list.append(\"University\")\n",
        "name_list.append(\"Kangabe\")\n",
        "\n",
        "print(name_list)"
      ]
    },
    {
      "cell_type": "code",
      "source": [],
      "metadata": {
        "id": "qovgEZCpfO0q"
      },
      "execution_count": null,
      "outputs": []
    }
  ]
}